{
  "nbformat": 4,
  "nbformat_minor": 0,
  "metadata": {
    "colab": {
      "provenance": [],
      "authorship_tag": "ABX9TyOSv74VwztYE5CtvDCDhjyo",
      "include_colab_link": true
    },
    "kernelspec": {
      "name": "python3",
      "display_name": "Python 3"
    },
    "language_info": {
      "name": "python"
    }
  },
  "cells": [
    {
      "cell_type": "markdown",
      "metadata": {
        "id": "view-in-github",
        "colab_type": "text"
      },
      "source": [
        "<a href=\"https://colab.research.google.com/github/Pavangitalg/pavanlearning_python/blob/main/Day11.ipynb\" target=\"_parent\"><img src=\"https://colab.research.google.com/assets/colab-badge.svg\" alt=\"Open In Colab\"/></a>"
      ]
    },
    {
      "cell_type": "markdown",
      "source": [
        "#**Error Handling in Python**"
      ],
      "metadata": {
        "id": "xpilu8CTg9zB"
      }
    },
    {
      "cell_type": "markdown",
      "source": [],
      "metadata": {
        "id": "T5O1se3L3QT4"
      }
    },
    {
      "cell_type": "markdown",
      "source": [
        "#**Types of Error**"
      ],
      "metadata": {
        "id": "fASaH-N6zQzi"
      }
    },
    {
      "cell_type": "code",
      "execution_count": 2,
      "metadata": {
        "colab": {
          "base_uri": "https://localhost:8080/",
          "height": 53
        },
        "id": "bpfhGJYag6QX",
        "outputId": "cbf1a48b-e2d2-4809-fc74-8d63172c0244"
      },
      "outputs": [
        {
          "output_type": "execute_result",
          "data": {
            "text/plain": [
              "'1.Syntax Error ## mean syntax not correct\\n2.Type Error ## Let say when add int+str, 2 different data type\\n3.Name Error ## When the Name let say variable is not defined\\n4.Index Error : Out of Range ### While getting the element out of the list \\n5.Key error ## While using the Dictionary\\n6.Value Error ### for example while converting string to int\\n7.Zero Deivisio Error ### 10/0 Error '"
            ],
            "application/vnd.google.colaboratory.intrinsic+json": {
              "type": "string"
            }
          },
          "metadata": {},
          "execution_count": 2
        }
      ],
      "source": [
        "\"\"\"1.Syntax Error ## mean syntax not correct\n",
        "2.Type Error ## Let say when add int+str, 2 different data type\n",
        "3.Name Error ## When the Name let say variable is not defined\n",
        "4.Index Error : Out of Range ### While getting the element out of the list\n",
        "5.Key error ## While using the Dictionary\n",
        "6.Value Error ### for example while converting string to int\n",
        "7.Zero Deivisio Error ### 10/0 Error \"\"\"\n",
        "\n",
        "## if you don't handle the error your code will stop executing at that point , but if you have handled the error code will continue to exectue as error has been already handled"
      ]
    },
    {
      "cell_type": "markdown",
      "source": [
        "#**Error handling**"
      ],
      "metadata": {
        "id": "nWzvj21C0xEw"
      }
    },
    {
      "cell_type": "code",
      "source": [
        "# try except\n",
        "try:\n",
        "  result = 10/0\n",
        "except ZeroDivisionError:\n",
        "  print(\"Can not divide by Zero\")"
      ],
      "metadata": {
        "colab": {
          "base_uri": "https://localhost:8080/"
        },
        "id": "earAv_Q40Nea",
        "outputId": "cf03df57-9ab0-4ab5-84d2-1d84394e0b3c"
      },
      "execution_count": 4,
      "outputs": [
        {
          "output_type": "stream",
          "name": "stdout",
          "text": [
            "Can not divide by Zero\n"
          ]
        }
      ]
    },
    {
      "cell_type": "code",
      "source": [
        "try:\n",
        "  x=int(\"Hello\")\n",
        "except ValueError:\n",
        "  print(\"Invalid Value: Please enter appropriate value\")"
      ],
      "metadata": {
        "colab": {
          "base_uri": "https://localhost:8080/"
        },
        "id": "45iDkkw2070t",
        "outputId": "9b7fb728-6a71-408c-ad0e-41cff136c73d"
      },
      "execution_count": 8,
      "outputs": [
        {
          "output_type": "stream",
          "name": "stdout",
          "text": [
            "Invalid Value: Please enter appropriate value\n"
          ]
        }
      ]
    },
    {
      "cell_type": "markdown",
      "source": [
        "#**Code Continuity Handled**"
      ],
      "metadata": {
        "id": "6SSLhbeu2olE"
      }
    },
    {
      "cell_type": "code",
      "source": [
        "try:\n",
        "  x=int(\"Hello\")\n",
        "except ValueError:\n",
        "  print(\"Invalid Value: Please enter appropriate value\")\n",
        "y=2+3"
      ],
      "metadata": {
        "colab": {
          "base_uri": "https://localhost:8080/"
        },
        "id": "xfpz7xD607pG",
        "outputId": "0ea15ef1-456b-4874-e715-fecc27f8a254"
      },
      "execution_count": 9,
      "outputs": [
        {
          "output_type": "stream",
          "name": "stdout",
          "text": [
            "Invalid Value: Please enter appropriate value\n"
          ]
        }
      ]
    },
    {
      "cell_type": "code",
      "source": [
        "y"
      ],
      "metadata": {
        "colab": {
          "base_uri": "https://localhost:8080/"
        },
        "id": "U1DhR6BU2y-x",
        "outputId": "01789c4f-ec2b-4b07-c4dd-b52ff5641e3f"
      },
      "execution_count": 10,
      "outputs": [
        {
          "output_type": "execute_result",
          "data": {
            "text/plain": [
              "5"
            ]
          },
          "metadata": {},
          "execution_count": 10
        }
      ]
    },
    {
      "cell_type": "code",
      "source": [],
      "metadata": {
        "id": "NUuwkFu-2y7u"
      },
      "execution_count": null,
      "outputs": []
    }
  ]
}