{
  "nbformat": 4,
  "nbformat_minor": 0,
  "metadata": {
    "colab": {
      "provenance": [],
      "authorship_tag": "ABX9TyM7fKACVjwdnOyFvPCMV27T",
      "include_colab_link": true
    },
    "kernelspec": {
      "name": "python3",
      "display_name": "Python 3"
    },
    "language_info": {
      "name": "python"
    }
  },
  "cells": [
    {
      "cell_type": "markdown",
      "metadata": {
        "id": "view-in-github",
        "colab_type": "text"
      },
      "source": [
        "<a href=\"https://colab.research.google.com/github/Pavangitalg/pavanlearning_python/blob/main/Day_25.ipynb\" target=\"_parent\"><img src=\"https://colab.research.google.com/assets/colab-badge.svg\" alt=\"Open In Colab\"/></a>"
      ]
    },
    {
      "cell_type": "markdown",
      "source": [
        "#**More Visulization Modules**\n"
      ],
      "metadata": {
        "id": "ynsuIj_6jTTr"
      }
    },
    {
      "cell_type": "code",
      "execution_count": null,
      "metadata": {
        "id": "h7cOFdw5jO2Z"
      },
      "outputs": [],
      "source": [
        "\n",
        "## For Python user\n",
        "#Matplotlib\n",
        "# Seaborn ### More advance than matplotlib, special for heatmap\n",
        "# Plotly ## For the Dashboard\n",
        "\n",
        "## For Non Python users\n",
        "#Tableau\n",
        "# PowerBI\n",
        "# Google Looker Studio ## foor dash baords\n",
        "## Less popular Datawrapper\n",
        "\n",
        "\n",
        "# Colors ## colorbrewer is a nice website for color\n",
        "# Adobe Color Wheel\n",
        "# pinterest\n"
      ]
    }
  ]
}