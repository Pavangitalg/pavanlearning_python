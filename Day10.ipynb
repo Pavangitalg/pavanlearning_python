{
  "nbformat": 4,
  "nbformat_minor": 0,
  "metadata": {
    "colab": {
      "provenance": [],
      "authorship_tag": "ABX9TyMHVALW+gH9xBTyJEEfbqo8",
      "include_colab_link": true
    },
    "kernelspec": {
      "name": "python3",
      "display_name": "Python 3"
    },
    "language_info": {
      "name": "python"
    }
  },
  "cells": [
    {
      "cell_type": "markdown",
      "metadata": {
        "id": "view-in-github",
        "colab_type": "text"
      },
      "source": [
        "<a href=\"https://colab.research.google.com/github/Pavangitalg/pavanlearning_python/blob/main/Day10.ipynb\" target=\"_parent\"><img src=\"https://colab.research.google.com/assets/colab-badge.svg\" alt=\"Open In Colab\"/></a>"
      ]
    },
    {
      "cell_type": "markdown",
      "source": [
        "# **Learn working Strings in Python**"
      ],
      "metadata": {
        "id": "dHk1HujJ-S5r"
      }
    },
    {
      "cell_type": "markdown",
      "source": [
        "# **1. Creating String**"
      ],
      "metadata": {
        "id": "YyoyW5zTBFcL"
      }
    },
    {
      "cell_type": "code",
      "execution_count": 3,
      "metadata": {
        "colab": {
          "base_uri": "https://localhost:8080/",
          "height": 35
        },
        "id": "Hhs4xWfZ-O8J",
        "outputId": "8da2c358-11fc-4407-9633-8a9f857aaefd"
      },
      "outputs": [
        {
          "output_type": "execute_result",
          "data": {
            "text/plain": [
              "'Hello'"
            ],
            "application/vnd.google.colaboratory.intrinsic+json": {
              "type": "string"
            }
          },
          "metadata": {},
          "execution_count": 3
        }
      ],
      "source": [
        "single_quote_string='Hello'\n",
        "double_quote_string=\"Hello\"\n",
        "triple_quote_string='''Hello'''\n",
        "triple_quote_string"
      ]
    },
    {
      "cell_type": "markdown",
      "source": [],
      "metadata": {
        "id": "TSoWI7BmB-u1"
      }
    },
    {
      "cell_type": "code",
      "source": [
        "multi_line_string= ''' this is line 1 in my story\n",
        " this is line 2 in my story''' # for the multi line statments\n"
      ],
      "metadata": {
        "id": "wF_yvkRt-Sa0"
      },
      "execution_count": 4,
      "outputs": []
    },
    {
      "cell_type": "markdown",
      "source": [
        "# **2. Accessing Char**"
      ],
      "metadata": {
        "id": "PkRKhJ7JB66r"
      }
    },
    {
      "cell_type": "code",
      "source": [
        "single_quote_string[1]"
      ],
      "metadata": {
        "colab": {
          "base_uri": "https://localhost:8080/",
          "height": 35
        },
        "id": "sJ2213QyCAvj",
        "outputId": "dac0775c-91e1-41b0-ed79-7493eadf6b77"
      },
      "execution_count": 7,
      "outputs": [
        {
          "output_type": "execute_result",
          "data": {
            "text/plain": [
              "'Hello'"
            ],
            "application/vnd.google.colaboratory.intrinsic+json": {
              "type": "string"
            }
          },
          "metadata": {},
          "execution_count": 7
        }
      ]
    },
    {
      "cell_type": "markdown",
      "source": [
        "# **3. Slicing string**"
      ],
      "metadata": {
        "id": "PLQjBQ3jCMQD"
      }
    },
    {
      "cell_type": "code",
      "source": [
        "single_quote_string[0:3]"
      ],
      "metadata": {
        "colab": {
          "base_uri": "https://localhost:8080/",
          "height": 35
        },
        "id": "Cn142i-TCRwd",
        "outputId": "5177c597-6dc6-43e8-d27f-f5ff91e5d26b"
      },
      "execution_count": 9,
      "outputs": [
        {
          "output_type": "execute_result",
          "data": {
            "text/plain": [
              "'Hel'"
            ],
            "application/vnd.google.colaboratory.intrinsic+json": {
              "type": "string"
            }
          },
          "metadata": {},
          "execution_count": 9
        }
      ]
    },
    {
      "cell_type": "code",
      "source": [
        "multi_line_string[:20]"
      ],
      "metadata": {
        "colab": {
          "base_uri": "https://localhost:8080/",
          "height": 35
        },
        "id": "1u364wrwCea7",
        "outputId": "0c2d2751-95c7-4c70-bc4d-f709c7946ae2"
      },
      "execution_count": 12,
      "outputs": [
        {
          "output_type": "execute_result",
          "data": {
            "text/plain": [
              "' this is line 1 in m'"
            ],
            "application/vnd.google.colaboratory.intrinsic+json": {
              "type": "string"
            }
          },
          "metadata": {},
          "execution_count": 12
        }
      ]
    },
    {
      "cell_type": "markdown",
      "source": [
        "#**4. Negative index**"
      ],
      "metadata": {
        "id": "Cyo3ijSbCuV9"
      }
    },
    {
      "cell_type": "code",
      "source": [
        "double_quote_string[-1:5]"
      ],
      "metadata": {
        "colab": {
          "base_uri": "https://localhost:8080/",
          "height": 35
        },
        "id": "ek3jQ0c-C4Oi",
        "outputId": "8945b2a0-917c-421b-acf4-05685abf3db2"
      },
      "execution_count": 23,
      "outputs": [
        {
          "output_type": "execute_result",
          "data": {
            "text/plain": [
              "'o'"
            ],
            "application/vnd.google.colaboratory.intrinsic+json": {
              "type": "string"
            }
          },
          "metadata": {},
          "execution_count": 23
        }
      ]
    },
    {
      "cell_type": "markdown",
      "source": [
        "#**5.Concatanate String**"
      ],
      "metadata": {
        "id": "pnmZ1cSqDhVF"
      }
    },
    {
      "cell_type": "code",
      "source": [
        "\"Hello\"+\" \"+\"World\""
      ],
      "metadata": {
        "colab": {
          "base_uri": "https://localhost:8080/",
          "height": 35
        },
        "id": "-d_nhBTUDqw5",
        "outputId": "e851c68a-d43c-4532-f647-8c92430c52a0"
      },
      "execution_count": 26,
      "outputs": [
        {
          "output_type": "execute_result",
          "data": {
            "text/plain": [
              "'Hello World'"
            ],
            "application/vnd.google.colaboratory.intrinsic+json": {
              "type": "string"
            }
          },
          "metadata": {},
          "execution_count": 26
        }
      ]
    },
    {
      "cell_type": "markdown",
      "source": [],
      "metadata": {
        "id": "m12RVpscDo8g"
      }
    },
    {
      "cell_type": "markdown",
      "source": [
        "#**6.String Repeatation**"
      ],
      "metadata": {
        "id": "UHb_ez4nDxo1"
      }
    },
    {
      "cell_type": "code",
      "source": [
        "'ha '*3\n",
        "'ha '*3+ '!'"
      ],
      "metadata": {
        "colab": {
          "base_uri": "https://localhost:8080/",
          "height": 35
        },
        "id": "f-HnjmjYD43r",
        "outputId": "ccaa978a-cb18-4bcc-c13a-f6bb41688aee"
      },
      "execution_count": 29,
      "outputs": [
        {
          "output_type": "execute_result",
          "data": {
            "text/plain": [
              "'ha ha ha !'"
            ],
            "application/vnd.google.colaboratory.intrinsic+json": {
              "type": "string"
            }
          },
          "metadata": {},
          "execution_count": 29
        }
      ]
    },
    {
      "cell_type": "markdown",
      "source": [
        "#**7. String Length**"
      ],
      "metadata": {
        "id": "OEP_RcXHEJnZ"
      }
    },
    {
      "cell_type": "code",
      "source": [
        "len(single_quote_string)\n",
        "x='hello'\n",
        "len(x)-1"
      ],
      "metadata": {
        "colab": {
          "base_uri": "https://localhost:8080/"
        },
        "id": "JmW8H_tXERYF",
        "outputId": "5a9f4eb4-f61d-4326-94c1-88a3923d9afe"
      },
      "execution_count": 31,
      "outputs": [
        {
          "output_type": "execute_result",
          "data": {
            "text/plain": [
              "4"
            ]
          },
          "metadata": {},
          "execution_count": 31
        }
      ]
    },
    {
      "cell_type": "markdown",
      "source": [
        "#**8.CHecking substring**"
      ],
      "metadata": {
        "id": "5ts1vLPsEkMr"
      }
    },
    {
      "cell_type": "code",
      "source": [
        "#substring is the part of string\n",
        "# \"\"Hello World\" >> \"World\"\n",
        "x=\"Hello World\"\n",
        "print(\"Hello \" in x)"
      ],
      "metadata": {
        "colab": {
          "base_uri": "https://localhost:8080/"
        },
        "id": "WFfuCYTjEw2X",
        "outputId": "ec85e978-63ab-4fae-8677-8abdbc957476"
      },
      "execution_count": 36,
      "outputs": [
        {
          "output_type": "stream",
          "name": "stdout",
          "text": [
            "True\n"
          ]
        }
      ]
    },
    {
      "cell_type": "markdown",
      "source": [
        "#**9.String Methods/ Functions**"
      ],
      "metadata": {
        "id": "_ShHUW4SFL1A"
      }
    },
    {
      "cell_type": "markdown",
      "source": [],
      "metadata": {
        "id": "UmSCbKlLFdGT"
      }
    },
    {
      "cell_type": "code",
      "source": [
        "name= 'PAVAN'\n",
        "name.lower()\n",
        "name.title() ## Split, Join, Replace,strip"
      ],
      "metadata": {
        "colab": {
          "base_uri": "https://localhost:8080/",
          "height": 35
        },
        "id": "ZnexQ43uFmLJ",
        "outputId": "7bfcf5d4-2804-4f8e-fa72-31a88643e18a"
      },
      "execution_count": 38,
      "outputs": [
        {
          "output_type": "execute_result",
          "data": {
            "text/plain": [
              "'Pavan'"
            ],
            "application/vnd.google.colaboratory.intrinsic+json": {
              "type": "string"
            }
          },
          "metadata": {},
          "execution_count": 38
        }
      ]
    },
    {
      "cell_type": "markdown",
      "source": [
        "#**10.f String- String formatting**"
      ],
      "metadata": {
        "id": "Xlrw2M5pFw8w"
      }
    },
    {
      "cell_type": "code",
      "source": [
        "name=\"Pavan\"\n",
        "print(f\"my name is {name}\")"
      ],
      "metadata": {
        "colab": {
          "base_uri": "https://localhost:8080/"
        },
        "id": "e_plSGPLGJ6-",
        "outputId": "99bc1c06-25db-4a36-ec80-ea6dea9cf8b0"
      },
      "execution_count": 40,
      "outputs": [
        {
          "output_type": "stream",
          "name": "stdout",
          "text": [
            "my name is Pavan\n"
          ]
        }
      ]
    },
    {
      "cell_type": "markdown",
      "source": [],
      "metadata": {
        "id": "MHC6uNMBF-rp"
      }
    }
  ]
}