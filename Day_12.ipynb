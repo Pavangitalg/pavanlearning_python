{
  "nbformat": 4,
  "nbformat_minor": 0,
  "metadata": {
    "colab": {
      "provenance": [],
      "authorship_tag": "ABX9TyNg1J+4K3FumgNFaXLUyGjZ",
      "include_colab_link": true
    },
    "kernelspec": {
      "name": "python3",
      "display_name": "Python 3"
    },
    "language_info": {
      "name": "python"
    }
  },
  "cells": [
    {
      "cell_type": "markdown",
      "metadata": {
        "id": "view-in-github",
        "colab_type": "text"
      },
      "source": [
        "<a href=\"https://colab.research.google.com/github/Pavangitalg/pavanlearning_python/blob/main/Day_12.ipynb\" target=\"_parent\"><img src=\"https://colab.research.google.com/assets/colab-badge.svg\" alt=\"Open In Colab\"/></a>"
      ]
    },
    {
      "cell_type": "markdown",
      "source": [
        "#**File handling in Python**\n",
        "\n"
      ],
      "metadata": {
        "id": "NuFJbzvv4VV0"
      }
    },
    {
      "cell_type": "code",
      "execution_count": 1,
      "metadata": {
        "id": "QTZtFyOA4SpF",
        "colab": {
          "base_uri": "https://localhost:8080/"
        },
        "outputId": "b77c6676-8ef9-4bd0-92c5-95ce47e293e6"
      },
      "outputs": [
        {
          "output_type": "stream",
          "name": "stdout",
          "text": [
            "Writing demo.txt\n"
          ]
        }
      ],
      "source": [
        "# prompt: Write a txt file for demo in colab  ## with command to handle file\n",
        "\n",
        "%%writefile demo.txt\n",
        "# #**File handling in Python**\n",
        "#"
      ]
    },
    {
      "cell_type": "code",
      "source": [
        "with open('demo.txt') as f:  ###  modes : Read, write, append , r,w,a\n",
        "  print(f.read())"
      ],
      "metadata": {
        "colab": {
          "base_uri": "https://localhost:8080/"
        },
        "id": "QBwnBnNB6LxL",
        "outputId": "ac422c74-a74c-4a28-b997-854b344227de"
      },
      "execution_count": 3,
      "outputs": [
        {
          "output_type": "stream",
          "name": "stdout",
          "text": [
            "# #**File handling in Python**\n",
            "# \n",
            "\n"
          ]
        }
      ]
    },
    {
      "cell_type": "code",
      "source": [
        "with open('demo.txt', mode='a') as f: ## With open(filename, mode)  modes : Read, write, append , r,w,a\n",
        "  f.write('Hello World')"
      ],
      "metadata": {
        "id": "fLDoRfjR6Lu2"
      },
      "execution_count": 4,
      "outputs": []
    },
    {
      "cell_type": "code",
      "source": [
        "with open('demo.txt')as f:\n",
        "  print(f.read())"
      ],
      "metadata": {
        "colab": {
          "base_uri": "https://localhost:8080/"
        },
        "id": "FVuyEpV_6Lrr",
        "outputId": "68ef2352-b750-436d-d144-4b64629427ef"
      },
      "execution_count": 5,
      "outputs": [
        {
          "output_type": "stream",
          "name": "stdout",
          "text": [
            "# #**File handling in Python**\n",
            "# \n",
            "Hello World\n"
          ]
        }
      ]
    },
    {
      "cell_type": "code",
      "source": [
        "# prompt: create a csv file in colab with 2 column and 2  rows\n",
        "\n",
        "import csv\n",
        "\n",
        "with open('my_file.csv', 'w', newline='') as file:\n",
        "    writer = csv.writer(file)\n",
        "    writer.writerow([\"Column 1\", \"Column 2\"])\n",
        "    writer.writerow([\"Value 1\", \"Value 2\"])\n",
        "    writer.writerow([\"Value 3\", \"Value 4\"])\n"
      ],
      "metadata": {
        "id": "9zKGuWr96Loi"
      },
      "execution_count": 7,
      "outputs": []
    },
    {
      "cell_type": "code",
      "source": [
        "import pandas as pd\n",
        "df = pd.read_csv('my_file.csv')\n",
        "print(df)"
      ],
      "metadata": {
        "colab": {
          "base_uri": "https://localhost:8080/"
        },
        "id": "JD4DXn5g7al_",
        "outputId": "4abeef42-be0a-41fd-ac36-7290149caade"
      },
      "execution_count": 8,
      "outputs": [
        {
          "output_type": "stream",
          "name": "stdout",
          "text": [
            "  Column 1 Column 2\n",
            "0  Value 1  Value 2\n",
            "1  Value 3  Value 4\n"
          ]
        }
      ]
    },
    {
      "cell_type": "code",
      "source": [
        "def add(a,b):\n",
        "  return a+b\n",
        "\n",
        "def mul(a,b):\n",
        "  a*b\n",
        "  return a-b\n",
        "\n",
        "def div(a,b):\n",
        "  return a/b\n",
        "\n",
        "def sub(a,b):\n",
        "  return a-b\n",
        "sub(7,6)\n",
        "add(2,3)\n",
        "mul(3,4)\n",
        "div(4,5)\n"
      ],
      "metadata": {
        "colab": {
          "base_uri": "https://localhost:8080/"
        },
        "id": "q12IN1Ow8iRQ",
        "outputId": "49dcea3c-663a-4b47-81cb-ebce8a444200"
      },
      "execution_count": 23,
      "outputs": [
        {
          "output_type": "execute_result",
          "data": {
            "text/plain": [
              "0.8"
            ]
          },
          "metadata": {},
          "execution_count": 23
        }
      ]
    }
  ]
}