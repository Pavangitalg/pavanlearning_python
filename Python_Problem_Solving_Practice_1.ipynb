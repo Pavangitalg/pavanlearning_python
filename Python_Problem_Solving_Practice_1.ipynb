{
  "nbformat": 4,
  "nbformat_minor": 0,
  "metadata": {
    "colab": {
      "provenance": [],
      "authorship_tag": "ABX9TyNJzfKYLiWDfU+9tpAlGkpe",
      "include_colab_link": true
    },
    "kernelspec": {
      "name": "python3",
      "display_name": "Python 3"
    },
    "language_info": {
      "name": "python"
    }
  },
  "cells": [
    {
      "cell_type": "markdown",
      "metadata": {
        "id": "view-in-github",
        "colab_type": "text"
      },
      "source": [
        "<a href=\"https://colab.research.google.com/github/Pavangitalg/pavanlearning_python/blob/main/Python_Problem_Solving_Practice_1.ipynb\" target=\"_parent\"><img src=\"https://colab.research.google.com/assets/colab-badge.svg\" alt=\"Open In Colab\"/></a>"
      ]
    },
    {
      "cell_type": "code",
      "execution_count": null,
      "metadata": {
        "id": "6UaQiM5ifugC"
      },
      "outputs": [],
      "source": []
    },
    {
      "cell_type": "markdown",
      "source": [
        "#**1. Temperature Converter**:\n",
        "\n",
        "Problem Statement: Create a program that converts temperatures between Celsius and Fahrenheit. The user should be able to input a temperature and the unit (C or F), and the program should output the converted temperature in the other unit"
      ],
      "metadata": {
        "id": "9AlRobcxgBC5"
      }
    },
    {
      "cell_type": "code",
      "source": [
        "temp=(float(input(\"Enter Temprature Value:\"))),str(input(\"Enter Unit(C/F):\"))\n",
        "print(f\"Entered Temperature is :{temp}\")\n",
        "if temp[1]=='C':\n",
        "  newtemp = ((temp[0] * 9/5) + 32)\n",
        "  print('Converted Temperature in Fahrenheit:',newtemp)\n",
        "elif temp[1]=='F':\n",
        "  newtemp = (temp[0]  - 32) * 5/9\n",
        "  print('Converted Temperature in Celsius:',newtemp)\n",
        "else:\n",
        "  print('Incorrect Value Entered')"
      ],
      "metadata": {
        "colab": {
          "base_uri": "https://localhost:8080/"
        },
        "id": "5i_22AgDgMeo",
        "outputId": "e694823b-550c-4bd0-b8a0-9cb82a89b821"
      },
      "execution_count": 50,
      "outputs": [
        {
          "output_type": "stream",
          "name": "stdout",
          "text": [
            "Enter Temprature Value:200.34\n",
            "Enter Unit(C/F):C\n",
            "Entered Temperature is :(200.34, 'C')\n",
            "Converted Temperature in Fahrenheit: 392.61199999999997\n"
          ]
        }
      ]
    },
    {
      "cell_type": "code",
      "source": [
        "#temperature = float(input(\"Enter the temperature value: \"))"
      ],
      "metadata": {
        "id": "ZvIOiiTYhtge"
      },
      "execution_count": null,
      "outputs": []
    },
    {
      "cell_type": "code",
      "source": [],
      "metadata": {
        "id": "Kjrvqs3chta2"
      },
      "execution_count": null,
      "outputs": []
    },
    {
      "cell_type": "code",
      "source": [],
      "metadata": {
        "id": "Px7U0bA6htX9"
      },
      "execution_count": null,
      "outputs": []
    },
    {
      "cell_type": "code",
      "source": [],
      "metadata": {
        "id": "zRnoYxaIhtOL"
      },
      "execution_count": null,
      "outputs": []
    }
  ]
}