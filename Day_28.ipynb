{
  "nbformat": 4,
  "nbformat_minor": 0,
  "metadata": {
    "colab": {
      "provenance": [],
      "authorship_tag": "ABX9TyPi1Sl4iTGIyX3xOX6Oks9o",
      "include_colab_link": true
    },
    "kernelspec": {
      "name": "python3",
      "display_name": "Python 3"
    },
    "language_info": {
      "name": "python"
    }
  },
  "cells": [
    {
      "cell_type": "markdown",
      "metadata": {
        "id": "view-in-github",
        "colab_type": "text"
      },
      "source": [
        "<a href=\"https://colab.research.google.com/github/Pavangitalg/pavanlearning_python/blob/main/Day_28.ipynb\" target=\"_parent\"><img src=\"https://colab.research.google.com/assets/colab-badge.svg\" alt=\"Open In Colab\"/></a>"
      ]
    },
    {
      "cell_type": "markdown",
      "source": [
        "#**Other Popular Python Libraries**"
      ],
      "metadata": {
        "id": "xKk-qIbULESL"
      }
    },
    {
      "cell_type": "markdown",
      "source": [],
      "metadata": {
        "id": "u4dqmVolLP2p"
      }
    },
    {
      "cell_type": "code",
      "execution_count": 1,
      "metadata": {
        "id": "Mjd62093LAIU"
      },
      "outputs": [],
      "source": [
        "####### Data Science ########\n",
        "# Numpy, Pandas, matplotlip\n",
        "# Sklearn # Pytorch # Tensorflow\n",
        "\n",
        "\n",
        "###### for API #####\n",
        "\n",
        "# Request , Flask,FastAPI\n",
        "\n",
        "\n",
        "\n",
        "#### Web Developper ########\n",
        "# Flask ,Streamlit, DJango\n",
        "\n",
        "\n",
        "#### Web Scrapping/Web Crawaling ######\n",
        "\n",
        "### Selenium,Beautifulsoap,Scrapy\n",
        "\n",
        "\n",
        "##### Compute Vision /Image  Processing #######\n",
        "## OPENCV,Pillow,MoviePy,Ultralytics\n"
      ]
    },
    {
      "cell_type": "code",
      "source": [
        "\n"
      ],
      "metadata": {
        "id": "laJ4f9CwLZWK"
      },
      "execution_count": null,
      "outputs": []
    }
  ]
}