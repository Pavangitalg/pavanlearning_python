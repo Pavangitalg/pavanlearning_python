{
  "nbformat": 4,
  "nbformat_minor": 0,
  "metadata": {
    "colab": {
      "provenance": [],
      "authorship_tag": "ABX9TyM4wnlsS014Y/KyPyjEtpea",
      "include_colab_link": true
    },
    "kernelspec": {
      "name": "python3",
      "display_name": "Python 3"
    },
    "language_info": {
      "name": "python"
    }
  },
  "cells": [
    {
      "cell_type": "markdown",
      "metadata": {
        "id": "view-in-github",
        "colab_type": "text"
      },
      "source": [
        "<a href=\"https://colab.research.google.com/github/Pavangitalg/pavanlearning_python/blob/main/Day08.ipynb\" target=\"_parent\"><img src=\"https://colab.research.google.com/assets/colab-badge.svg\" alt=\"Open In Colab\"/></a>"
      ]
    },
    {
      "cell_type": "markdown",
      "source": [
        "# **Day 08 Learn functions**"
      ],
      "metadata": {
        "id": "LjxzMcKauqkA"
      }
    },
    {
      "cell_type": "code",
      "execution_count": null,
      "metadata": {
        "id": "1Su9To1jumzP"
      },
      "outputs": [],
      "source": [
        "# input,logic, output"
      ]
    },
    {
      "cell_type": "markdown",
      "source": [
        "# **1. Defining a funtion**"
      ],
      "metadata": {
        "id": "wfh-pp1vvahy"
      }
    },
    {
      "cell_type": "code",
      "source": [
        "def hello():    # input inside the braces -no\n",
        "  print(\"hello world\") # logic-print\n",
        "                  # output -Hello world"
      ],
      "metadata": {
        "id": "0csJAu3Jvlxd"
      },
      "execution_count": null,
      "outputs": []
    },
    {
      "cell_type": "markdown",
      "source": [
        "# **2. Calling a function**"
      ],
      "metadata": {
        "id": "fZLOaoTew-XK"
      }
    },
    {
      "cell_type": "code",
      "source": [
        "hello()  # Calling a function"
      ],
      "metadata": {
        "colab": {
          "base_uri": "https://localhost:8080/"
        },
        "id": "pvbFkiaCxOFg",
        "outputId": "b87f169a-c448-435a-e0ac-fc5f0c04e64e"
      },
      "execution_count": null,
      "outputs": [
        {
          "output_type": "stream",
          "name": "stdout",
          "text": [
            "hello world\n"
          ]
        }
      ]
    },
    {
      "cell_type": "markdown",
      "source": [
        "# **3. Functions with parameter(prams)**"
      ],
      "metadata": {
        "id": "BJlLRZ6nxyDD"
      }
    },
    {
      "cell_type": "code",
      "source": [
        "def hello(name):\n",
        "  print(f\"Hello {name}!\") # Using F\"string\"\n",
        "hello(\"kavu\")"
      ],
      "metadata": {
        "colab": {
          "base_uri": "https://localhost:8080/"
        },
        "id": "1pYWNU7mx61T",
        "outputId": "d2321669-c5d4-4c46-8a6b-f9151b8f32bf"
      },
      "execution_count": null,
      "outputs": [
        {
          "output_type": "stream",
          "name": "stdout",
          "text": [
            "Hello kavu!\n"
          ]
        }
      ]
    },
    {
      "cell_type": "code",
      "source": [
        "def ram_prasad(name):\n",
        "  print(f\"{name} is a good man\") # u can pass parameter using f string using curely braces\n",
        "\n",
        "ram_prasad(\"rahul_dravid\")"
      ],
      "metadata": {
        "id": "ST4lD103x-dE",
        "colab": {
          "base_uri": "https://localhost:8080/"
        },
        "outputId": "083e0193-1b3d-40a1-dceb-ad949727781f"
      },
      "execution_count": null,
      "outputs": [
        {
          "output_type": "stream",
          "name": "stdout",
          "text": [
            "rahul_dravid is a good man\n"
          ]
        }
      ]
    },
    {
      "cell_type": "code",
      "source": [
        "# Another example for function\n",
        "def capital_to_country(capital,country):\n",
        "  print(f\"{capital} is the capital of the country {country}\")\n",
        "capital_to_country(\"NY\",\"US\")"
      ],
      "metadata": {
        "colab": {
          "base_uri": "https://localhost:8080/"
        },
        "id": "JVOc1hKeIrpI",
        "outputId": "b488bffc-759a-4f18-9ed6-03fdf1d6bc73"
      },
      "execution_count": null,
      "outputs": [
        {
          "output_type": "stream",
          "name": "stdout",
          "text": [
            "NY is the capital of the country US\n"
          ]
        }
      ]
    },
    {
      "cell_type": "markdown",
      "source": [
        "# **4. function using return value**"
      ],
      "metadata": {
        "id": "ybFLNeOPJoa7"
      }
    },
    {
      "cell_type": "code",
      "source": [
        "# add two numbers, The primary purpose of return is to send a value back from a function.\n",
        "#Without a return statement, a function implicitly returns None\n",
        "def add_two_numbers(a,b):\n",
        "  print(a+b)\n",
        "  return a+b\n",
        "v=add_two_numbers(10,20)"
      ],
      "metadata": {
        "id": "z_YT3WQYJ382"
      },
      "execution_count": null,
      "outputs": []
    },
    {
      "cell_type": "markdown",
      "source": [
        "# **5.Default Parameter Params in function**"
      ],
      "metadata": {
        "id": "RHExRdfMi8sF"
      }
    },
    {
      "cell_type": "code",
      "source": [
        "#def hello(name):\n",
        "  #print(f\"Hello {name}\")\n",
        "#hello(\"pavan\")\n",
        "\n",
        "def hello(name='guest'):\n",
        "  print(f\"Hello {name}\")\n",
        "hello(\"Raju\")"
      ],
      "metadata": {
        "colab": {
          "base_uri": "https://localhost:8080/"
        },
        "id": "LIov0Rb1jKIF",
        "outputId": "90791e90-0e89-407c-9b78-50bc124d7306"
      },
      "execution_count": null,
      "outputs": [
        {
          "output_type": "stream",
          "name": "stdout",
          "text": [
            "Hello Raju\n"
          ]
        }
      ]
    },
    {
      "cell_type": "markdown",
      "source": [
        "# **6.Keywords Argument**"
      ],
      "metadata": {
        "id": "4UeOvukGlHzr"
      }
    },
    {
      "cell_type": "code",
      "source": [
        "# two numbers / add them\n",
        "def add_numbers(x=10,y=20): # Keywords argument\n",
        "  return x+y\n",
        "add_numbers(10,20)"
      ],
      "metadata": {
        "colab": {
          "base_uri": "https://localhost:8080/"
        },
        "id": "nbgl1wfIlYcm",
        "outputId": "8e50dabb-c3a8-4362-a504-a1644e372ef1"
      },
      "execution_count": null,
      "outputs": [
        {
          "output_type": "execute_result",
          "data": {
            "text/plain": [
              "30"
            ]
          },
          "metadata": {},
          "execution_count": 3
        }
      ]
    },
    {
      "cell_type": "markdown",
      "source": [
        "# **7.Scope and Variables Global ( these are genrally very confusing**"
      ],
      "metadata": {
        "id": "LVPG0K0dMi3t"
      }
    },
    {
      "cell_type": "code",
      "source": [
        "def text(x=10):  ### Some issue with this line not getting print output\n",
        "  print(x)"
      ],
      "metadata": {
        "id": "zFnR5cxLMria"
      },
      "execution_count": 12,
      "outputs": []
    },
    {
      "cell_type": "code",
      "source": [
        " ### global variable which are defined outside the function\n",
        "      ### Some issue with this line not getting print output\n",
        "x=200\n",
        "def test(y):\n",
        "  global x\n",
        "  print(x,y)\n",
        "test(10)"
      ],
      "metadata": {
        "id": "OWC63UkqNbOn",
        "colab": {
          "base_uri": "https://localhost:8080/"
        },
        "outputId": "9abd584c-4a9a-4fd4-a0ab-ed1bfed1ccd6"
      },
      "execution_count": 44,
      "outputs": [
        {
          "output_type": "stream",
          "name": "stdout",
          "text": [
            "200 10\n"
          ]
        }
      ]
    },
    {
      "cell_type": "code",
      "source": [
        "n=23\n",
        "def test(n):\n",
        "  n=21  #### As n value is assigned as 21 statically , so test(19) output will be 21 only\n",
        "  print(n)\n",
        "test(17)"
      ],
      "metadata": {
        "colab": {
          "base_uri": "https://localhost:8080/"
        },
        "id": "462yEs-IQ1Su",
        "outputId": "c0711bc5-ca4c-4a0b-fb57-d0e8c510326a"
      },
      "execution_count": 46,
      "outputs": [
        {
          "output_type": "stream",
          "name": "stdout",
          "text": [
            "21\n"
          ]
        }
      ]
    },
    {
      "cell_type": "markdown",
      "source": [
        "# **8. Nested Function**\n"
      ],
      "metadata": {
        "id": "I2xRrCi4RXMB"
      }
    },
    {
      "cell_type": "code",
      "source": [
        "# Function inside Function\n",
        "## Demo of nested function as hello(name) is used in the fav_city()\n",
        "def hello(name):\n",
        "  print(f\"hello{name}!!\")\n",
        "\n",
        "def fav_city(city_name, name):\n",
        "  hello(name)\n",
        "  print(f\"Welcome to this city {city_name}\")\n",
        "\n",
        "fav_city(\"Bangalore\",\"Pavan\")\n"
      ],
      "metadata": {
        "colab": {
          "base_uri": "https://localhost:8080/"
        },
        "id": "Ew3IOwCURV6q",
        "outputId": "7171df38-f77d-458f-ffc9-e8a20881acb2"
      },
      "execution_count": 53,
      "outputs": [
        {
          "output_type": "stream",
          "name": "stdout",
          "text": [
            "helloPavan!!\n",
            "Welcome to this city Bangalore\n"
          ]
        }
      ]
    },
    {
      "cell_type": "code",
      "source": [
        "x=100\n",
        "def tst(y):\n",
        "  global x\n",
        "  print(x,y)\n",
        "\n",
        "tst(10)"
      ],
      "metadata": {
        "colab": {
          "base_uri": "https://localhost:8080/"
        },
        "id": "N8w_ELii7iNr",
        "outputId": "05906856-3cae-4df5-9af5-7c7ecc01412b"
      },
      "execution_count": 9,
      "outputs": [
        {
          "output_type": "stream",
          "name": "stdout",
          "text": [
            "100 10\n"
          ]
        }
      ]
    }
  ]
}