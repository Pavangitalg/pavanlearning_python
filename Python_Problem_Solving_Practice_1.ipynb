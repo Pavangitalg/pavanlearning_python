{
  "nbformat": 4,
  "nbformat_minor": 0,
  "metadata": {
    "colab": {
      "provenance": [],
      "authorship_tag": "ABX9TyMj+5H/+8Is3jGtmtXGmhUU",
      "include_colab_link": true
    },
    "kernelspec": {
      "name": "python3",
      "display_name": "Python 3"
    },
    "language_info": {
      "name": "python"
    }
  },
  "cells": [
    {
      "cell_type": "markdown",
      "metadata": {
        "id": "view-in-github",
        "colab_type": "text"
      },
      "source": [
        "<a href=\"https://colab.research.google.com/github/Pavangitalg/pavanlearning_python/blob/main/Python_Problem_Solving_Practice_1.ipynb\" target=\"_parent\"><img src=\"https://colab.research.google.com/assets/colab-badge.svg\" alt=\"Open In Colab\"/></a>"
      ]
    },
    {
      "cell_type": "code",
      "execution_count": null,
      "metadata": {
        "id": "6UaQiM5ifugC"
      },
      "outputs": [],
      "source": []
    },
    {
      "cell_type": "markdown",
      "source": [
        "#**1. Temperature Converter**:\n",
        "\n",
        "Problem Statement: Create a program that converts temperatures between Celsius and Fahrenheit. The user should be able to input a temperature and the unit (C or F), and the program should output the converted temperature in the other unit"
      ],
      "metadata": {
        "id": "9AlRobcxgBC5"
      }
    },
    {
      "cell_type": "code",
      "source": [
        "# temp=(float(input(\"Enter Temprature Value:\"))),str(input(\"Enter Unit(C/F):\"))\n",
        "# print(f\"Entered Temperature is :{temp}\")\n",
        "# if temp[1]=='C':\n",
        "#   newtemp = ((temp[0] * 9/5) + 32)\n",
        "#   print('Converted Temperature in Fahrenheit:',newtemp)\n",
        "# elif temp[1]=='F':\n",
        "#   newtemp = (temp[0]  - 32) * 5/9\n",
        "#   print('Converted Temperature in Celsius:',newtemp)\n",
        "# else:\n",
        "#   # print('Incorrect Value Entered')\n",
        ""
      ],
      "metadata": {
        "id": "5i_22AgDgMeo"
      },
      "execution_count": 54,
      "outputs": []
    },
    {
      "cell_type": "markdown",
      "source": [
        "#**2.Even or Odd**\n",
        "\n",
        "Problem Statement: Write a program that takes an integer as input and prints whether it is even or odd."
      ],
      "metadata": {
        "id": "NdZ53G3yolSf"
      }
    },
    {
      "cell_type": "code",
      "source": [
        "Entered_Value=int(input())\n",
        "if Entered_Value%2==0:\n",
        "  print(\"Entered Value is Even\")\n",
        "else:\n",
        "  print(\"Entered Value is Odd\")\n"
      ],
      "metadata": {
        "colab": {
          "base_uri": "https://localhost:8080/"
        },
        "id": "ZvIOiiTYhtge",
        "outputId": "943ff1b9-bf89-4a68-8812-2313895467a4"
      },
      "execution_count": 56,
      "outputs": [
        {
          "output_type": "stream",
          "name": "stdout",
          "text": [
            "22\n",
            "Entered Value is Even\n"
          ]
        }
      ]
    },
    {
      "cell_type": "markdown",
      "source": [
        "#**3.3. Grade Calculator:**"
      ],
      "metadata": {
        "id": "oAZ6dc0zpPGy"
      }
    },
    {
      "cell_type": "markdown",
      "source": [
        "Problem Statement: Create a program that calculates the grade based on a student's score.\n",
        "If the score is 90 or above, the grade is 'A'.\n",
        "If the score is between 80 and 89, the grade is 'B'.\n",
        "If the score is between 70 and 79, the grade is 'C'.\n",
        "If the score is between 60 and 69, the grade is 'D'.\n",
        "If the score is below 60, the grade is 'F'."
      ],
      "metadata": {
        "id": "jsjlEfYupXS7"
      }
    },
    {
      "cell_type": "code",
      "source": [
        "Score=int(input(\"Enter the Score of the Student:\"))\n",
        "if Score >= 90:\n",
        "  print(\"Grade A WOW\")\n",
        "elif Score >= 80 and Score <= 89:\n",
        "  print(\"Grade B\")\n",
        "elif Score >= 70 and Score <= 79:\n",
        "  print(\"Grade C\")\n",
        "elif Score >= 60 and Score <= 69:\n",
        "  print(\"Grade D\")\n",
        "elif Score < 60:\n",
        "  print(\"Grade F\")\n",
        "else:\n",
        "  print(\"Entered Score is Incorrect\")\n"
      ],
      "metadata": {
        "colab": {
          "base_uri": "https://localhost:8080/"
        },
        "id": "Kjrvqs3chta2",
        "outputId": "00bc32d9-d97c-47b0-e22b-eb95fe355256"
      },
      "execution_count": 104,
      "outputs": [
        {
          "output_type": "stream",
          "name": "stdout",
          "text": [
            "Enter the Score of the Student:103\n",
            "Grade A WOW\n"
          ]
        }
      ]
    },
    {
      "cell_type": "code",
      "source": [],
      "metadata": {
        "id": "Px7U0bA6htX9"
      },
      "execution_count": null,
      "outputs": []
    },
    {
      "cell_type": "code",
      "source": [],
      "metadata": {
        "id": "zRnoYxaIhtOL"
      },
      "execution_count": null,
      "outputs": []
    }
  ]
}