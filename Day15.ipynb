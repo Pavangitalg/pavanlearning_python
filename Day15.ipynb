{
  "nbformat": 4,
  "nbformat_minor": 0,
  "metadata": {
    "colab": {
      "provenance": [],
      "authorship_tag": "ABX9TyP8rbq3RkXLcZM5XxtdZVq/",
      "include_colab_link": true
    },
    "kernelspec": {
      "name": "python3",
      "display_name": "Python 3"
    },
    "language_info": {
      "name": "python"
    }
  },
  "cells": [
    {
      "cell_type": "markdown",
      "metadata": {
        "id": "view-in-github",
        "colab_type": "text"
      },
      "source": [
        "<a href=\"https://colab.research.google.com/github/Pavangitalg/pavanlearning_python/blob/main/Day15.ipynb\" target=\"_parent\"><img src=\"https://colab.research.google.com/assets/colab-badge.svg\" alt=\"Open In Colab\"/></a>"
      ]
    },
    {
      "cell_type": "markdown",
      "source": [
        "# **Learn about the dictionaries**"
      ],
      "metadata": {
        "id": "Fx5RBtjgNFR0"
      }
    },
    {
      "cell_type": "code",
      "execution_count": 9,
      "metadata": {
        "colab": {
          "base_uri": "https://localhost:8080/"
        },
        "id": "oJt6kcMUNCmD",
        "outputId": "2640ed00-2df4-4054-a08b-775ff185d80e"
      },
      "outputs": [
        {
          "output_type": "stream",
          "name": "stdout",
          "text": [
            "{'name': 'pavan', 'age': 42, 'Gender': 'Male'}\n",
            "dict_keys(['name', 'age', 'Gender'])\n",
            "dict_values(['pavan', 42, 'Male'])\n"
          ]
        }
      ],
      "source": [
        "1.#**Create a Sample Dictionary list=[], dict=[]\n",
        "\n",
        "\n",
        "my_dict={}\n",
        "\n",
        "student= {\"name\":\"ram\",\"age\":42,\"Gender\":\"Male\"}\n",
        "student\n",
        "# name, age, gender\n",
        "# Key-value pair\n",
        "#length of the dic len()-3\n",
        "#kay and values are linked using :\n",
        "student[\"name\"]=\"pavan\"\n",
        "print(student)\n",
        "print(student.keys())\n",
        "print(student.values())"
      ]
    },
    {
      "cell_type": "markdown",
      "source": [
        "#**2.Accesiing Values**"
      ],
      "metadata": {
        "id": "sayUuVqFdM5R"
      }
    },
    {
      "cell_type": "code",
      "source": [
        "student[\"age\"]\n",
        "student[\"age\"]=41\n",
        "student"
      ],
      "metadata": {
        "colab": {
          "base_uri": "https://localhost:8080/"
        },
        "id": "m6TpX-d2dRwD",
        "outputId": "ac14d948-d789-4351-ce9a-30cb0e68a16d"
      },
      "execution_count": 13,
      "outputs": [
        {
          "output_type": "execute_result",
          "data": {
            "text/plain": [
              "{'name': 'pavan', 'age': 41, 'Gender': 'Male'}"
            ]
          },
          "metadata": {},
          "execution_count": 13
        }
      ]
    },
    {
      "cell_type": "markdown",
      "source": [
        "#**3.Loop Through a Dictionary**"
      ],
      "metadata": {
        "id": "UoSGAD7Wdkp_"
      }
    },
    {
      "cell_type": "code",
      "source": [
        "student"
      ],
      "metadata": {
        "colab": {
          "base_uri": "https://localhost:8080/"
        },
        "id": "tFLYwh8zdq6a",
        "outputId": "61c8b5d6-7040-481f-8ca3-a130b1635ef6"
      },
      "execution_count": 14,
      "outputs": [
        {
          "output_type": "execute_result",
          "data": {
            "text/plain": [
              "{'name': 'pavan', 'age': 41, 'Gender': 'Male'}"
            ]
          },
          "metadata": {},
          "execution_count": 14
        }
      ]
    },
    {
      "cell_type": "code",
      "source": [
        "for a in student:   ### To get the keys from dictionary\n",
        "  print(a)"
      ],
      "metadata": {
        "colab": {
          "base_uri": "https://localhost:8080/"
        },
        "id": "gvzlvb_Zdq20",
        "outputId": "4b50378e-5f23-4564-d9a3-6ac4b416a60e"
      },
      "execution_count": 19,
      "outputs": [
        {
          "output_type": "stream",
          "name": "stdout",
          "text": [
            "name\n",
            "age\n",
            "Gender\n"
          ]
        }
      ]
    },
    {
      "cell_type": "code",
      "source": [
        "for a in student.values(): ## To get values of Keys in Dictionary\n",
        "  print(a)"
      ],
      "metadata": {
        "colab": {
          "base_uri": "https://localhost:8080/"
        },
        "id": "vNGGAaCsdq0C",
        "outputId": "2b4ae300-5dc3-4770-98d6-af8f093e50e2"
      },
      "execution_count": 20,
      "outputs": [
        {
          "output_type": "stream",
          "name": "stdout",
          "text": [
            "pavan\n",
            "41\n",
            "Male\n"
          ]
        }
      ]
    },
    {
      "cell_type": "code",
      "source": [
        "for k,v in student.items():  ### To get the key and value both use items()\n",
        "  print(k,v)"
      ],
      "metadata": {
        "colab": {
          "base_uri": "https://localhost:8080/"
        },
        "id": "_VH9dJbndqw_",
        "outputId": "fedf3a8c-c207-44b8-ac6c-3aed6be8da3d"
      },
      "execution_count": 21,
      "outputs": [
        {
          "output_type": "stream",
          "name": "stdout",
          "text": [
            "name pavan\n",
            "age 41\n",
            "Gender Male\n"
          ]
        }
      ]
    },
    {
      "cell_type": "code",
      "source": [
        "if \"name\" in student:  ### TO check if key is there in dictionary or not\n",
        "  print(\"yes\")\n",
        "\n",
        "for k in student:\n",
        "  if k==\"name\":\n",
        "    print(\"yes\")"
      ],
      "metadata": {
        "colab": {
          "base_uri": "https://localhost:8080/"
        },
        "id": "va921eQSdqtU",
        "outputId": "a91809ff-4102-4a0a-f3d1-66670279da14"
      },
      "execution_count": 30,
      "outputs": [
        {
          "output_type": "stream",
          "name": "stdout",
          "text": [
            "yes\n",
            "yes\n"
          ]
        }
      ]
    }
  ]
}