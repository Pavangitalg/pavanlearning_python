{
  "nbformat": 4,
  "nbformat_minor": 0,
  "metadata": {
    "colab": {
      "provenance": [],
      "authorship_tag": "ABX9TyPoRTXfrut239zznhBJ3+/h",
      "include_colab_link": true
    },
    "kernelspec": {
      "name": "python3",
      "display_name": "Python 3"
    },
    "language_info": {
      "name": "python"
    }
  },
  "cells": [
    {
      "cell_type": "markdown",
      "metadata": {
        "id": "view-in-github",
        "colab_type": "text"
      },
      "source": [
        "<a href=\"https://colab.research.google.com/github/Pavangitalg/pavanlearning_python/blob/main/Day08.ipynb\" target=\"_parent\"><img src=\"https://colab.research.google.com/assets/colab-badge.svg\" alt=\"Open In Colab\"/></a>"
      ]
    },
    {
      "cell_type": "markdown",
      "source": [
        "# **Day 08 Learn functions**"
      ],
      "metadata": {
        "id": "LjxzMcKauqkA"
      }
    },
    {
      "cell_type": "code",
      "execution_count": null,
      "metadata": {
        "id": "1Su9To1jumzP"
      },
      "outputs": [],
      "source": [
        "# input,logic, output"
      ]
    },
    {
      "cell_type": "markdown",
      "source": [
        "# **1. Defining a funtion**"
      ],
      "metadata": {
        "id": "wfh-pp1vvahy"
      }
    },
    {
      "cell_type": "code",
      "source": [
        "def hello():    # input inside the braces -no\n",
        "  print(\"hello world\") # logic-print\n",
        "                  # output -Hello world"
      ],
      "metadata": {
        "id": "0csJAu3Jvlxd"
      },
      "execution_count": null,
      "outputs": []
    },
    {
      "cell_type": "markdown",
      "source": [
        "# **2. Calling a function**"
      ],
      "metadata": {
        "id": "fZLOaoTew-XK"
      }
    },
    {
      "cell_type": "code",
      "source": [
        "hello()  # Calling a function"
      ],
      "metadata": {
        "colab": {
          "base_uri": "https://localhost:8080/"
        },
        "id": "pvbFkiaCxOFg",
        "outputId": "b87f169a-c448-435a-e0ac-fc5f0c04e64e"
      },
      "execution_count": null,
      "outputs": [
        {
          "output_type": "stream",
          "name": "stdout",
          "text": [
            "hello world\n"
          ]
        }
      ]
    },
    {
      "cell_type": "markdown",
      "source": [
        "# **3. Functions with parameter(prams)**"
      ],
      "metadata": {
        "id": "BJlLRZ6nxyDD"
      }
    },
    {
      "cell_type": "code",
      "source": [
        "def hello(name):\n",
        "  print(f\"Hello {name}!\") # Using F\"string\"\n",
        "hello(\"kavu\")"
      ],
      "metadata": {
        "colab": {
          "base_uri": "https://localhost:8080/"
        },
        "id": "1pYWNU7mx61T",
        "outputId": "d2321669-c5d4-4c46-8a6b-f9151b8f32bf"
      },
      "execution_count": 26,
      "outputs": [
        {
          "output_type": "stream",
          "name": "stdout",
          "text": [
            "Hello kavu!\n"
          ]
        }
      ]
    },
    {
      "cell_type": "code",
      "source": [
        "def ram_prasad(name):\n",
        "  print(f\"{name} is a good man\") # u can pass parameter using f string using curely braces\n",
        "\n",
        "ram_prasad(\"rahul_dravid\")"
      ],
      "metadata": {
        "id": "ST4lD103x-dE",
        "colab": {
          "base_uri": "https://localhost:8080/"
        },
        "outputId": "083e0193-1b3d-40a1-dceb-ad949727781f"
      },
      "execution_count": 27,
      "outputs": [
        {
          "output_type": "stream",
          "name": "stdout",
          "text": [
            "rahul_dravid is a good man\n"
          ]
        }
      ]
    },
    {
      "cell_type": "code",
      "source": [
        "# Another example for function\n",
        "def capital_to_country(capital,country):\n",
        "  print(f\"{capital} is the capital of the country {country}\")\n",
        "capital_to_country(\"NY\",\"US\")"
      ],
      "metadata": {
        "colab": {
          "base_uri": "https://localhost:8080/"
        },
        "id": "JVOc1hKeIrpI",
        "outputId": "b488bffc-759a-4f18-9ed6-03fdf1d6bc73"
      },
      "execution_count": 30,
      "outputs": [
        {
          "output_type": "stream",
          "name": "stdout",
          "text": [
            "NY is the capital of the country US\n"
          ]
        }
      ]
    },
    {
      "cell_type": "markdown",
      "source": [
        "# **4. function using return value**"
      ],
      "metadata": {
        "id": "ybFLNeOPJoa7"
      }
    },
    {
      "cell_type": "code",
      "source": [
        "# add two numbers, The primary purpose of return is to send a value back from a function.\n",
        "#Without a return statement, a function implicitly returns None\n",
        "def add_two_numbers(a,b):\n",
        "  print(a+b)\n",
        "  return a+b\n",
        "v=add_two_numbers(10,20)"
      ],
      "metadata": {
        "id": "z_YT3WQYJ382"
      },
      "execution_count": 39,
      "outputs": []
    }
  ]
}