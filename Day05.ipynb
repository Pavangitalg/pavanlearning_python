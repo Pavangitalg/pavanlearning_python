{
  "nbformat": 4,
  "nbformat_minor": 0,
  "metadata": {
    "colab": {
      "provenance": [],
      "authorship_tag": "ABX9TyOH86jPlHhLvt8dpukHCWRc",
      "include_colab_link": true
    },
    "kernelspec": {
      "name": "python3",
      "display_name": "Python 3"
    },
    "language_info": {
      "name": "python"
    }
  },
  "cells": [
    {
      "cell_type": "markdown",
      "metadata": {
        "id": "view-in-github",
        "colab_type": "text"
      },
      "source": [
        "<a href=\"https://colab.research.google.com/github/Pavangitalg/pavanlearning_python/blob/main/Day05.ipynb\" target=\"_parent\"><img src=\"https://colab.research.google.com/assets/colab-badge.svg\" alt=\"Open In Colab\"/></a>"
      ]
    },
    {
      "cell_type": "markdown",
      "source": [
        "# **Learning Python Day 5 **"
      ],
      "metadata": {
        "id": "LRYsg5YbobYF"
      }
    },
    {
      "cell_type": "code",
      "execution_count": 3,
      "metadata": {
        "id": "D_3BH39g3D3E"
      },
      "outputs": [],
      "source": [
        "# Day 05 Learn working with python\n",
        "items=[]\n",
        "items=['speaker','mic', 'mobile','laptop']"
      ]
    },
    {
      "cell_type": "markdown",
      "source": [
        "# **Accessing the elements in the list **"
      ],
      "metadata": {
        "id": "kPoDr4xnp_5A"
      }
    },
    {
      "cell_type": "code",
      "source": [
        "items[2]"
      ],
      "metadata": {
        "colab": {
          "base_uri": "https://localhost:8080/",
          "height": 35
        },
        "id": "Ohv8y1pVpBOk",
        "outputId": "870e913f-2688-45fc-9446-3200401e6ae3"
      },
      "execution_count": 4,
      "outputs": [
        {
          "output_type": "execute_result",
          "data": {
            "text/plain": [
              "'mobile'"
            ],
            "application/vnd.google.colaboratory.intrinsic+json": {
              "type": "string"
            }
          },
          "metadata": {},
          "execution_count": 4
        }
      ]
    },
    {
      "cell_type": "code",
      "source": [
        "items[1]"
      ],
      "metadata": {
        "colab": {
          "base_uri": "https://localhost:8080/",
          "height": 35
        },
        "id": "hfUOyADzpDlD",
        "outputId": "9412a6d0-909c-4582-c4e6-0b4f627376bf"
      },
      "execution_count": 6,
      "outputs": [
        {
          "output_type": "execute_result",
          "data": {
            "text/plain": [
              "'mic'"
            ],
            "application/vnd.google.colaboratory.intrinsic+json": {
              "type": "string"
            }
          },
          "metadata": {},
          "execution_count": 6
        }
      ]
    },
    {
      "cell_type": "markdown",
      "source": [
        "**#Shift+ENter to create an empty cell**"
      ],
      "metadata": {
        "id": "QTCOBjyIpSwr"
      }
    },
    {
      "cell_type": "code",
      "source": [
        "print(items[3])"
      ],
      "metadata": {
        "colab": {
          "base_uri": "https://localhost:8080/"
        },
        "id": "nZSzIR2QpGcJ",
        "outputId": "0189c11a-33d2-44b8-b5fa-0fceb6d610d4"
      },
      "execution_count": 8,
      "outputs": [
        {
          "output_type": "stream",
          "name": "stdout",
          "text": [
            "laptop\n"
          ]
        }
      ]
    },
    {
      "cell_type": "markdown",
      "source": [
        "**Negative Indexing**"
      ],
      "metadata": {
        "id": "7hKOBmQUqiWU"
      }
    },
    {
      "cell_type": "code",
      "source": [
        "items[-2]"
      ],
      "metadata": {
        "colab": {
          "base_uri": "https://localhost:8080/",
          "height": 35
        },
        "id": "MTDU1codpNGj",
        "outputId": "10a8d38e-8ef4-4dd1-aeb6-281217404e68"
      },
      "execution_count": 9,
      "outputs": [
        {
          "output_type": "execute_result",
          "data": {
            "text/plain": [
              "'mobile'"
            ],
            "application/vnd.google.colaboratory.intrinsic+json": {
              "type": "string"
            }
          },
          "metadata": {},
          "execution_count": 9
        }
      ]
    },
    {
      "cell_type": "markdown",
      "source": [
        "**Slicing in List , kind of piece of List **"
      ],
      "metadata": {
        "id": "-BQqBfNerG4v"
      }
    },
    {
      "cell_type": "code",
      "source": [
        "items[0:3]"
      ],
      "metadata": {
        "colab": {
          "base_uri": "https://localhost:8080/"
        },
        "id": "VAdUBQzTqsPQ",
        "outputId": "cb4e12f0-989f-4433-9ad1-2d1c03c80795"
      },
      "execution_count": 11,
      "outputs": [
        {
          "output_type": "execute_result",
          "data": {
            "text/plain": [
              "['speaker', 'mic', 'mobile']"
            ]
          },
          "metadata": {},
          "execution_count": 11
        }
      ]
    },
    {
      "cell_type": "markdown",
      "source": [
        "# **Modifying elements in a List**"
      ],
      "metadata": {
        "id": "koL9kM9Tr0E2"
      }
    },
    {
      "cell_type": "code",
      "source": [
        "items=['speaker','mic', 'mobile','laptop']\n",
        "items\n",
        "items[3]\n",
        "items[3]='computer'\n",
        "items"
      ],
      "metadata": {
        "colab": {
          "base_uri": "https://localhost:8080/"
        },
        "id": "WcHYzPQirWgd",
        "outputId": "86238328-7a8c-4bde-888d-ad895aff49e4"
      },
      "execution_count": 19,
      "outputs": [
        {
          "output_type": "execute_result",
          "data": {
            "text/plain": [
              "['speaker', 'mic', 'mobile', 'computer']"
            ]
          },
          "metadata": {},
          "execution_count": 19
        }
      ]
    },
    {
      "cell_type": "markdown",
      "source": [
        "### ***Adding elements to the list ***"
      ],
      "metadata": {
        "id": "_Ypigh4btAAp"
      }
    },
    {
      "cell_type": "code",
      "source": [
        "items.append(\"Charger\")\n",
        "items\n",
        "items.append(\"Camera\")\n",
        "items"
      ],
      "metadata": {
        "colab": {
          "base_uri": "https://localhost:8080/"
        },
        "id": "zVAQQ59BsQFV",
        "outputId": "01bc897c-c3ea-4b45-a96e-ff78968baec7"
      },
      "execution_count": 22,
      "outputs": [
        {
          "output_type": "execute_result",
          "data": {
            "text/plain": [
              "['speaker', 'mic', 'mobile', 'computer', 'Charger', 'Charger', 'Camera']"
            ]
          },
          "metadata": {},
          "execution_count": 22
        }
      ]
    },
    {
      "cell_type": "markdown",
      "source": [
        "# **Remove elements from the list**"
      ],
      "metadata": {
        "id": "hYIzLnbCt4Nb"
      }
    },
    {
      "cell_type": "code",
      "source": [
        "items.remove(\"computer\")\n",
        "items"
      ],
      "metadata": {
        "colab": {
          "base_uri": "https://localhost:8080/"
        },
        "id": "0Y_dM1ZktwBd",
        "outputId": "54ffd45e-fdbd-4f1b-eb10-0db01e11d63e"
      },
      "execution_count": 27,
      "outputs": [
        {
          "output_type": "execute_result",
          "data": {
            "text/plain": [
              "['speaker', 'mic', 'mobile', 'Camera']"
            ]
          },
          "metadata": {},
          "execution_count": 27
        }
      ]
    },
    {
      "cell_type": "code",
      "source": [
        "# del items[-1]\n",
        "items\n",
        "items.clear()\n",
        "items\n",
        "items = ['speaker', 'mic', 'mobile', 'computer', 'Charger', 'Charger', 'Camera']\n",
        "items"
      ],
      "metadata": {
        "colab": {
          "base_uri": "https://localhost:8080/"
        },
        "id": "Gs3BLSMfuIEJ",
        "outputId": "bfdf6264-8e8a-46e6-b9eb-68584e08ae21"
      },
      "execution_count": 35,
      "outputs": [
        {
          "output_type": "execute_result",
          "data": {
            "text/plain": [
              "['speaker', 'mic', 'mobile', 'computer', 'Charger', 'Charger', 'Camera']"
            ]
          },
          "metadata": {},
          "execution_count": 35
        }
      ]
    },
    {
      "cell_type": "markdown",
      "source": [
        "# **Checking items in the list**"
      ],
      "metadata": {
        "id": "CExXO7Nuvl2l"
      }
    },
    {
      "cell_type": "code",
      "source": [
        "# are earbuds in the list\n",
        "print(\"mic\" in items)"
      ],
      "metadata": {
        "colab": {
          "base_uri": "https://localhost:8080/"
        },
        "id": "-wBo-ul3vaql",
        "outputId": "9dec424d-f956-4fab-a400-abc1e3d45196"
      },
      "execution_count": 37,
      "outputs": [
        {
          "output_type": "stream",
          "name": "stdout",
          "text": [
            "True\n"
          ]
        }
      ]
    },
    {
      "cell_type": "markdown",
      "source": [
        "# ** **No.9 Lenght of list** **"
      ],
      "metadata": {
        "id": "zTptg4uCwQzh"
      }
    },
    {
      "cell_type": "code",
      "source": [
        "len(items)"
      ],
      "metadata": {
        "colab": {
          "base_uri": "https://localhost:8080/"
        },
        "id": "VuuDqEcjwlkZ",
        "outputId": "d8c33ff7-9d00-4912-f87c-3e3ce3675eb0"
      },
      "execution_count": 38,
      "outputs": [
        {
          "output_type": "execute_result",
          "data": {
            "text/plain": [
              "7"
            ]
          },
          "metadata": {},
          "execution_count": 38
        }
      ]
    },
    {
      "cell_type": "markdown",
      "source": [
        "# **No 10.List comperhension**"
      ],
      "metadata": {
        "id": "JKVcd53fzjvD"
      }
    },
    {
      "cell_type": "code",
      "source": [
        "score =[70,80,90,95]\n",
        "for scores in score:\n",
        "  print(scores/2)"
      ],
      "metadata": {
        "colab": {
          "base_uri": "https://localhost:8080/"
        },
        "id": "3pGk7wjgwlah",
        "outputId": "8b29850e-0661-496f-e3cd-fa38705a9cd7"
      },
      "execution_count": 41,
      "outputs": [
        {
          "output_type": "stream",
          "name": "stdout",
          "text": [
            "35.0\n",
            "40.0\n",
            "45.0\n",
            "47.5\n"
          ]
        }
      ]
    },
    {
      "cell_type": "code",
      "source": [
        "[i/2 for i in score] ## comperhension is faster than for loop"
      ],
      "metadata": {
        "colab": {
          "base_uri": "https://localhost:8080/"
        },
        "id": "18qa1FG50T4Q",
        "outputId": "1d99a251-0712-4ef7-c18d-15ad6fcc8ad7"
      },
      "execution_count": 42,
      "outputs": [
        {
          "output_type": "execute_result",
          "data": {
            "text/plain": [
              "[35.0, 40.0, 45.0, 47.5]"
            ]
          },
          "metadata": {},
          "execution_count": 42
        }
      ]
    },
    {
      "cell_type": "code",
      "source": [],
      "metadata": {
        "id": "wjH3X4Mk0T03"
      },
      "execution_count": null,
      "outputs": []
    },
    {
      "cell_type": "code",
      "source": [],
      "metadata": {
        "id": "atHEzwLm0Tvm"
      },
      "execution_count": null,
      "outputs": []
    }
  ]
}