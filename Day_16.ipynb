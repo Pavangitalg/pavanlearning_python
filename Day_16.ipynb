{
  "nbformat": 4,
  "nbformat_minor": 0,
  "metadata": {
    "colab": {
      "provenance": [],
      "authorship_tag": "ABX9TyOmHLXOgX20XVXG1rfvSvVJ",
      "include_colab_link": true
    },
    "kernelspec": {
      "name": "python3",
      "display_name": "Python 3"
    },
    "language_info": {
      "name": "python"
    }
  },
  "cells": [
    {
      "cell_type": "markdown",
      "metadata": {
        "id": "view-in-github",
        "colab_type": "text"
      },
      "source": [
        "<a href=\"https://colab.research.google.com/github/Pavangitalg/pavanlearning_python/blob/main/Day_16.ipynb\" target=\"_parent\"><img src=\"https://colab.research.google.com/assets/colab-badge.svg\" alt=\"Open In Colab\"/></a>"
      ]
    },
    {
      "cell_type": "markdown",
      "source": [
        "#**Learning tuple() and sets{}**"
      ],
      "metadata": {
        "id": "Y_ACo9TsjBGA"
      }
    },
    {
      "cell_type": "code",
      "execution_count": 1,
      "metadata": {
        "id": "NRBnuZ2si9js"
      },
      "outputs": [],
      "source": [
        "#list[,]\n",
        "#dict{key:value}\n",
        "#tuple(,)\n",
        "#sets{,}\n",
        "\n",
        "# List Vs Tuple\n",
        "# List : Mutable: can change the size , add , remove elements , lists are high on memory and consumes more memory in programs\n",
        "# Tuple: Immutable : Can not add, can not modify , Tuple are good for memory as occupies less memory"
      ]
    },
    {
      "cell_type": "markdown",
      "source": [
        "#**Creating  Tuple and accessing the Tuple elements**"
      ],
      "metadata": {
        "id": "_dIav9Mr05UA"
      }
    },
    {
      "cell_type": "code",
      "source": [
        "my_tuple= (1,2,3)\n",
        "my_tuple[2]"
      ],
      "metadata": {
        "colab": {
          "base_uri": "https://localhost:8080/"
        },
        "id": "5kI7NWxAlB_c",
        "outputId": "e53dc08e-9474-4665-fef7-61e9d22f5561"
      },
      "execution_count": 9,
      "outputs": [
        {
          "output_type": "execute_result",
          "data": {
            "text/plain": [
              "3"
            ]
          },
          "metadata": {},
          "execution_count": 9
        }
      ]
    },
    {
      "cell_type": "markdown",
      "source": [
        "#**Tuple Operations**"
      ],
      "metadata": {
        "id": "Keyu_wZ11QNI"
      }
    },
    {
      "cell_type": "code",
      "source": [
        "tp1=(1,2,3)\n",
        "tp2=(\"a\",\"b\",\"c\")\n",
        "tp1+tp2"
      ],
      "metadata": {
        "colab": {
          "base_uri": "https://localhost:8080/"
        },
        "id": "yDJkUBNjlCHf",
        "outputId": "16e5941e-f2ca-474d-aa2f-098f78ce9955"
      },
      "execution_count": 11,
      "outputs": [
        {
          "output_type": "execute_result",
          "data": {
            "text/plain": [
              "(1, 2, 3, 'a', 'b', 'c')"
            ]
          },
          "metadata": {},
          "execution_count": 11
        }
      ]
    },
    {
      "cell_type": "code",
      "source": [
        "tp1*8"
      ],
      "metadata": {
        "colab": {
          "base_uri": "https://localhost:8080/"
        },
        "id": "ZtU6wPAh1luC",
        "outputId": "bbea2103-e275-485c-9f72-e671e2d5c249"
      },
      "execution_count": 15,
      "outputs": [
        {
          "output_type": "execute_result",
          "data": {
            "text/plain": [
              "(1, 2, 3, 1, 2, 3, 1, 2, 3, 1, 2, 3, 1, 2, 3, 1, 2, 3, 1, 2, 3, 1, 2, 3)"
            ]
          },
          "metadata": {},
          "execution_count": 15
        }
      ]
    },
    {
      "cell_type": "code",
      "source": [
        "tp3=(1,)\n",
        "tp3*5"
      ],
      "metadata": {
        "colab": {
          "base_uri": "https://localhost:8080/"
        },
        "id": "BlPzAEQL1u6w",
        "outputId": "fce301c7-ff43-438d-ae29-da00e2bdba2d"
      },
      "execution_count": 18,
      "outputs": [
        {
          "output_type": "execute_result",
          "data": {
            "text/plain": [
              "(1, 1, 1, 1, 1)"
            ]
          },
          "metadata": {},
          "execution_count": 18
        }
      ]
    },
    {
      "cell_type": "markdown",
      "source": [
        "#**Tuple Unpacking**"
      ],
      "metadata": {
        "id": "Nwnemm7R1-OU"
      }
    },
    {
      "cell_type": "code",
      "source": [
        "tp1=(1,2,3,4)"
      ],
      "metadata": {
        "id": "HXPgbq_j2DmD"
      },
      "execution_count": 21,
      "outputs": []
    },
    {
      "cell_type": "code",
      "source": [
        "a"
      ],
      "metadata": {
        "colab": {
          "base_uri": "https://localhost:8080/"
        },
        "id": "1Bj4pZN_2Dim",
        "outputId": "02026b9f-10d2-4625-9574-733a76e3d2b0"
      },
      "execution_count": 20,
      "outputs": [
        {
          "output_type": "execute_result",
          "data": {
            "text/plain": [
              "1"
            ]
          },
          "metadata": {},
          "execution_count": 20
        }
      ]
    },
    {
      "cell_type": "code",
      "source": [
        "a,b,c=10,20,30"
      ],
      "metadata": {
        "id": "m-AtxguZ2Dfa"
      },
      "execution_count": 22,
      "outputs": []
    },
    {
      "cell_type": "code",
      "source": [
        "a"
      ],
      "metadata": {
        "colab": {
          "base_uri": "https://localhost:8080/"
        },
        "id": "1yDthGyU2Dcb",
        "outputId": "9ab765d7-5344-4abd-bbf9-9d356c62c417"
      },
      "execution_count": 23,
      "outputs": [
        {
          "output_type": "execute_result",
          "data": {
            "text/plain": [
              "10"
            ]
          },
          "metadata": {},
          "execution_count": 23
        }
      ]
    },
    {
      "cell_type": "markdown",
      "source": [
        "#**set()**"
      ],
      "metadata": {
        "id": "9EpepN-r1lUi"
      }
    },
    {
      "cell_type": "code",
      "source": [
        "### Union or intersection kind of operation , get the unique values\n",
        "ls1=[1,1,2,3,3,4,5,6,7,7]\n",
        "set(ls1)"
      ],
      "metadata": {
        "colab": {
          "base_uri": "https://localhost:8080/"
        },
        "id": "BAl7teeJ29F8",
        "outputId": "eb25db42-1f5c-4a17-dbc6-59e2ea39c47a"
      },
      "execution_count": 25,
      "outputs": [
        {
          "output_type": "execute_result",
          "data": {
            "text/plain": [
              "{1, 2, 3, 4, 5, 6, 7}"
            ]
          },
          "metadata": {},
          "execution_count": 25
        }
      ]
    },
    {
      "cell_type": "markdown",
      "source": [
        "#**Set Operations**"
      ],
      "metadata": {
        "id": "pFZxbgUR5dnG"
      }
    },
    {
      "cell_type": "code",
      "source": [
        "s1={1,2,3}\n",
        "s2={3,4,5}\n",
        "print(s1.union(s2))\n",
        "print(s1.intersection(s2))"
      ],
      "metadata": {
        "colab": {
          "base_uri": "https://localhost:8080/"
        },
        "id": "CQ_7_1Uq31B9",
        "outputId": "18ca19b8-ee96-4b3f-b75d-aed271790f96"
      },
      "execution_count": 29,
      "outputs": [
        {
          "output_type": "stream",
          "name": "stdout",
          "text": [
            "{1, 2, 3, 4, 5}\n",
            "{3}\n"
          ]
        }
      ]
    },
    {
      "cell_type": "code",
      "source": [
        "print(s1.difference(s2))\n",
        "print(s2.difference(s1))\n"
      ],
      "metadata": {
        "colab": {
          "base_uri": "https://localhost:8080/"
        },
        "id": "IyDtOPQ930-l",
        "outputId": "2640fe69-c45b-4ae6-fb88-9e64fc02292a"
      },
      "execution_count": 31,
      "outputs": [
        {
          "output_type": "stream",
          "name": "stdout",
          "text": [
            "{1, 2}\n",
            "{4, 5}\n"
          ]
        }
      ]
    },
    {
      "cell_type": "code",
      "source": [],
      "metadata": {
        "id": "dEi2BpMf307x"
      },
      "execution_count": null,
      "outputs": []
    }
  ]
}