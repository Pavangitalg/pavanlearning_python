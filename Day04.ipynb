{
  "nbformat": 4,
  "nbformat_minor": 0,
  "metadata": {
    "colab": {
      "provenance": [],
      "authorship_tag": "ABX9TyMBgWNYcXczzMlDLTkoFuJ2",
      "include_colab_link": true
    },
    "kernelspec": {
      "name": "python3",
      "display_name": "Python 3"
    },
    "language_info": {
      "name": "python"
    }
  },
  "cells": [
    {
      "cell_type": "markdown",
      "metadata": {
        "id": "view-in-github",
        "colab_type": "text"
      },
      "source": [
        "<a href=\"https://colab.research.google.com/github/Pavangitalg/pavanlearning_python/blob/main/Day04.ipynb\" target=\"_parent\"><img src=\"https://colab.research.google.com/assets/colab-badge.svg\" alt=\"Open In Colab\"/></a>"
      ]
    },
    {
      "cell_type": "code",
      "execution_count": 18,
      "metadata": {
        "colab": {
          "base_uri": "https://localhost:8080/"
        },
        "id": "6k7BrCkLDQKR",
        "outputId": "8952aa6c-fe84-479a-833e-9b63dac2b544"
      },
      "outputs": [
        {
          "output_type": "stream",
          "name": "stdout",
          "text": [
            "0\n",
            "not divisible: 1\n",
            "not divisible: 2\n",
            "not divisible: 3\n",
            "not divisible: 4\n",
            "not divisible: 5\n",
            "not divisible: 6\n",
            "not divisible: 7\n",
            "not divisible: 8\n",
            "not divisible: 9\n",
            "not divisible: 10\n",
            "not divisible: 11\n",
            "not divisible: 12\n",
            "not divisible: 13\n",
            "not divisible: 14\n",
            "not divisible: 15\n",
            "not divisible: 16\n",
            "not divisible: 17\n",
            "not divisible: 18\n",
            "not divisible: 19\n",
            "20\n",
            "not divisible: 21\n",
            "not divisible: 22\n",
            "not divisible: 23\n",
            "not divisible: 24\n",
            "not divisible: 25\n",
            "not divisible: 26\n",
            "not divisible: 27\n",
            "not divisible: 28\n",
            "not divisible: 29\n",
            "not divisible: 30\n",
            "not divisible: 31\n",
            "not divisible: 32\n",
            "not divisible: 33\n",
            "not divisible: 34\n",
            "not divisible: 35\n",
            "not divisible: 36\n",
            "not divisible: 37\n",
            "not divisible: 38\n",
            "not divisible: 39\n",
            "40\n",
            "not divisible: 41\n",
            "not divisible: 42\n",
            "not divisible: 43\n",
            "not divisible: 44\n",
            "not divisible: 45\n",
            "not divisible: 46\n",
            "not divisible: 47\n",
            "not divisible: 48\n",
            "not divisible: 49\n",
            "not divisible: 50\n",
            "not divisible: 51\n",
            "not divisible: 52\n",
            "not divisible: 53\n",
            "not divisible: 54\n",
            "not divisible: 55\n",
            "not divisible: 56\n",
            "not divisible: 57\n",
            "not divisible: 58\n",
            "not divisible: 59\n",
            "60\n",
            "not divisible: 61\n",
            "not divisible: 62\n",
            "not divisible: 63\n",
            "not divisible: 64\n",
            "not divisible: 65\n",
            "not divisible: 66\n",
            "not divisible: 67\n",
            "not divisible: 68\n",
            "not divisible: 69\n",
            "not divisible: 70\n",
            "not divisible: 71\n",
            "not divisible: 72\n",
            "not divisible: 73\n",
            "not divisible: 74\n",
            "not divisible: 75\n",
            "not divisible: 76\n",
            "not divisible: 77\n",
            "not divisible: 78\n",
            "not divisible: 79\n",
            "80\n",
            "not divisible: 81\n",
            "not divisible: 82\n",
            "not divisible: 83\n",
            "not divisible: 84\n",
            "not divisible: 85\n",
            "not divisible: 86\n",
            "not divisible: 87\n",
            "not divisible: 88\n",
            "not divisible: 89\n",
            "not divisible: 90\n",
            "not divisible: 91\n",
            "not divisible: 92\n",
            "not divisible: 93\n",
            "not divisible: 94\n",
            "not divisible: 95\n",
            "not divisible: 96\n",
            "not divisible: 97\n",
            "not divisible: 98\n",
            "not divisible: 99\n"
          ]
        }
      ],
      "source": [
        "# it's a day 4 for learning python\n",
        "# Learning control structrues : For Loops\n",
        "# for range() print(), be dafault range starts from 0 ,say range (10) mean 0-10, range (10,20)- 10 to 20 # i in for i is just a iterator nothing else\n",
        "# for loop works till end -1, mean if for loop is ranged till 10 , it will print till 9 only\n",
        "for i in range(100):\n",
        "  if i%20==0:\n",
        "    print(i)\n",
        "  else:\n",
        "    print(\"not divisible:\",i)"
      ]
    }
  ]
}