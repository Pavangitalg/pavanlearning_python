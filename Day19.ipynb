{
  "nbformat": 4,
  "nbformat_minor": 0,
  "metadata": {
    "colab": {
      "provenance": [],
      "authorship_tag": "ABX9TyNNyrmcggaacCV5KMmkclGJ",
      "include_colab_link": true
    },
    "kernelspec": {
      "name": "python3",
      "display_name": "Python 3"
    },
    "language_info": {
      "name": "python"
    }
  },
  "cells": [
    {
      "cell_type": "markdown",
      "metadata": {
        "id": "view-in-github",
        "colab_type": "text"
      },
      "source": [
        "<a href=\"https://colab.research.google.com/github/Pavangitalg/pavanlearning_python/blob/main/Day19.ipynb\" target=\"_parent\"><img src=\"https://colab.research.google.com/assets/colab-badge.svg\" alt=\"Open In Colab\"/></a>"
      ]
    },
    {
      "cell_type": "markdown",
      "source": [
        "#**Learning Dictionaries in Python**"
      ],
      "metadata": {
        "id": "f7IzZcId-7mD"
      }
    },
    {
      "cell_type": "markdown",
      "source": [
        "#**Problem Solving**"
      ],
      "metadata": {
        "id": "lQusme-r_OZN"
      }
    },
    {
      "cell_type": "markdown",
      "source": [
        "#** Let say we have a list l1=[1,2,2,3,2,3,4,5],now identify the most repetitive element in the list"
      ],
      "metadata": {
        "id": "16HLc5Yx_jgm"
      }
    },
    {
      "cell_type": "code",
      "execution_count": 27,
      "metadata": {
        "colab": {
          "base_uri": "https://localhost:8080/"
        },
        "id": "pm4mRwyn-2Cb",
        "outputId": "a8626dbc-7b4d-439f-ac85-b3fccebaad49"
      },
      "outputs": [
        {
          "output_type": "stream",
          "name": "stdout",
          "text": [
            "2\n"
          ]
        }
      ],
      "source": [
        "num_counter = {}\n",
        "l1=[1,2,2,3,2,3,4,5]\n",
        "for i in l1:\n",
        "  if i in num_counter:\n",
        "    num_counter[i] += 1\n",
        "  else:\n",
        "    num_counter[i] = 1\n",
        "for k,v in num_counter.items():\n",
        "  if v== max(num_counter.values()):\n",
        "    print(k)\n",
        "\n"
      ]
    },
    {
      "cell_type": "code",
      "source": [
        "num_counter = {}\n",
        "l1=[1,2,2,3,2,3,4,5]\n",
        "for i in l1:\n",
        "  if i in num_counter:\n",
        "    num_counter[i] += 1\n",
        "  else:\n",
        "    num_counter[i] = 1\n",
        "num_counter"
      ],
      "metadata": {
        "colab": {
          "base_uri": "https://localhost:8080/"
        },
        "id": "lkMzGQjGECZo",
        "outputId": "77298b23-8c52-4ac5-b533-6c57d545dd2f"
      },
      "execution_count": 20,
      "outputs": [
        {
          "output_type": "execute_result",
          "data": {
            "text/plain": [
              "{1: 1, 2: 3, 3: 2, 4: 1, 5: 1}"
            ]
          },
          "metadata": {},
          "execution_count": 20
        }
      ]
    }
  ]
}