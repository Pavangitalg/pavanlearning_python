{
  "nbformat": 4,
  "nbformat_minor": 0,
  "metadata": {
    "colab": {
      "provenance": [],
      "authorship_tag": "ABX9TyP8cQApT/LWll0V2E7QQzz6",
      "include_colab_link": true
    },
    "kernelspec": {
      "name": "python3",
      "display_name": "Python 3"
    },
    "language_info": {
      "name": "python"
    }
  },
  "cells": [
    {
      "cell_type": "markdown",
      "metadata": {
        "id": "view-in-github",
        "colab_type": "text"
      },
      "source": [
        "<a href=\"https://colab.research.google.com/github/Pavangitalg/pavanlearning_python/blob/main/Day03.ipynb\" target=\"_parent\"><img src=\"https://colab.research.google.com/assets/colab-badge.svg\" alt=\"Open In Colab\"/></a>"
      ]
    },
    {
      "cell_type": "code",
      "execution_count": 7,
      "metadata": {
        "colab": {
          "base_uri": "https://localhost:8080/"
        },
        "id": "RO0oqQhC8Oq9",
        "outputId": "2e92f3f2-0542-42ff-f726-f810456dbfc3"
      },
      "outputs": [
        {
          "output_type": "stream",
          "name": "stdout",
          "text": [
            "Hooray:, i can go to the movie\n"
          ]
        }
      ],
      "source": [
        "# Learning control structures\n",
        "\n",
        "ticket_price = 90\n",
        "wallet_size= 100\n",
        "ticket_price\n",
        "if ticket_price<=wallet_size:  # if(condition):  to do else(condition): to do\n",
        "  print(\"Hooray:, i can go to the movie\")\n",
        "else:\n",
        "  print(\"Sad i do not have enough bugs\")"
      ]
    },
    {
      "cell_type": "code",
      "source": [
        "#CTRL+ENTER = RUN the code\n",
        "# Comparsion : <,>,<=,>=,==,!=#"
      ],
      "metadata": {
        "id": "COV_r8Qq9ljK"
      },
      "execution_count": 6,
      "outputs": []
    },
    {
      "cell_type": "code",
      "source": [
        "# 90 + A+\n",
        "# 80 + A\n",
        "# 70 + B+\n",
        "# 60 + B\n",
        "# 60 - Fail"
      ],
      "metadata": {
        "id": "IkLqFUNE9lme"
      },
      "execution_count": null,
      "outputs": []
    },
    {
      "cell_type": "code",
      "source": [
        "marks=76\n",
        "if (marks>=90):\n",
        "  print(\"A+\")\n",
        "elif (marks>= 80):\n",
        "  print(\"A\")\n",
        "elif(marks>=70):\n",
        "  print(\"B+\")\n",
        "elif(marks>=60):\n",
        "  print(\"B\")\n",
        "else:\n",
        "  print(\"fail\")"
      ],
      "metadata": {
        "colab": {
          "base_uri": "https://localhost:8080/"
        },
        "id": "dH48GGPn9lpn",
        "outputId": "572de5bb-76e1-440f-deaf-8ee2705e1473"
      },
      "execution_count": 13,
      "outputs": [
        {
          "output_type": "stream",
          "name": "stdout",
          "text": [
            "B+\n"
          ]
        }
      ]
    },
    {
      "cell_type": "code",
      "source": [
        "number= int(input(\"Enter a number here :\"))\n",
        "if number%2==0:\n",
        "  print(\"Entered number is even \")\n",
        "else:\n",
        "  print(\"Entered number is odd\")"
      ],
      "metadata": {
        "colab": {
          "base_uri": "https://localhost:8080/"
        },
        "id": "VAKC2H6v_Csi",
        "outputId": "f6776514-7a3f-460a-cd2a-09ab0735abf5"
      },
      "execution_count": 14,
      "outputs": [
        {
          "output_type": "stream",
          "name": "stdout",
          "text": [
            "Enter a number here :23\n",
            "Entered number is odd\n"
          ]
        }
      ]
    },
    {
      "cell_type": "code",
      "source": [],
      "metadata": {
        "id": "RzmwHd3N_Cpd"
      },
      "execution_count": null,
      "outputs": []
    },
    {
      "cell_type": "code",
      "source": [],
      "metadata": {
        "id": "LznmKkhd_CmM"
      },
      "execution_count": null,
      "outputs": []
    },
    {
      "cell_type": "code",
      "source": [],
      "metadata": {
        "id": "KCezlp4h_Ciu"
      },
      "execution_count": null,
      "outputs": []
    },
    {
      "cell_type": "code",
      "source": [],
      "metadata": {
        "id": "u_-hIYC3_Cfv"
      },
      "execution_count": null,
      "outputs": []
    },
    {
      "cell_type": "code",
      "source": [],
      "metadata": {
        "id": "pQpqqTRS9lsY"
      },
      "execution_count": null,
      "outputs": []
    },
    {
      "cell_type": "code",
      "source": [],
      "metadata": {
        "id": "dLM2Lkyf9lvc"
      },
      "execution_count": null,
      "outputs": []
    },
    {
      "cell_type": "code",
      "source": [],
      "metadata": {
        "id": "fY4K-13n9lyE"
      },
      "execution_count": null,
      "outputs": []
    }
  ]
}