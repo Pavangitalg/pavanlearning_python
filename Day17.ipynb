{
  "nbformat": 4,
  "nbformat_minor": 0,
  "metadata": {
    "colab": {
      "provenance": [],
      "authorship_tag": "ABX9TyPqhjJbHwtBPgYi9LHCsiQS",
      "include_colab_link": true
    },
    "kernelspec": {
      "name": "python3",
      "display_name": "Python 3"
    },
    "language_info": {
      "name": "python"
    }
  },
  "cells": [
    {
      "cell_type": "markdown",
      "metadata": {
        "id": "view-in-github",
        "colab_type": "text"
      },
      "source": [
        "<a href=\"https://colab.research.google.com/github/Pavangitalg/pavanlearning_python/blob/main/Day17.ipynb\" target=\"_parent\"><img src=\"https://colab.research.google.com/assets/colab-badge.svg\" alt=\"Open In Colab\"/></a>"
      ]
    },
    {
      "cell_type": "markdown",
      "source": [
        "#**Learning Python Modules/ Python Libraries**"
      ],
      "metadata": {
        "id": "CPVjMgMO6-dD"
      }
    },
    {
      "cell_type": "code",
      "execution_count": 1,
      "metadata": {
        "colab": {
          "base_uri": "https://localhost:8080/"
        },
        "id": "Al73S0TR64MH",
        "outputId": "520a2674-6f29-4304-df35-2511d2e8e0f9"
      },
      "outputs": [
        {
          "output_type": "execute_result",
          "data": {
            "text/plain": [
              "10.0"
            ]
          },
          "metadata": {},
          "execution_count": 1
        }
      ],
      "source": [
        "#math,random\n",
        "import math\n",
        "import random\n",
        "math.sqrt(100)"
      ]
    },
    {
      "cell_type": "code",
      "source": [
        "math.pi"
      ],
      "metadata": {
        "colab": {
          "base_uri": "https://localhost:8080/"
        },
        "id": "HpNX2ZHj7tCB",
        "outputId": "5862477a-dfba-4ea1-8a2d-e3b065dea6bd"
      },
      "execution_count": 2,
      "outputs": [
        {
          "output_type": "execute_result",
          "data": {
            "text/plain": [
              "3.141592653589793"
            ]
          },
          "metadata": {},
          "execution_count": 2
        }
      ]
    },
    {
      "cell_type": "code",
      "source": [
        "math.pow(2,8)"
      ],
      "metadata": {
        "colab": {
          "base_uri": "https://localhost:8080/"
        },
        "id": "NYeEuL3u7wpK",
        "outputId": "f62a3d35-61b8-4a1a-d5c9-dc9ce1f07882"
      },
      "execution_count": 3,
      "outputs": [
        {
          "output_type": "execute_result",
          "data": {
            "text/plain": [
              "256.0"
            ]
          },
          "metadata": {},
          "execution_count": 3
        }
      ]
    },
    {
      "cell_type": "code",
      "source": [
        "import math as m\n",
        "m.pow(8,8)"
      ],
      "metadata": {
        "colab": {
          "base_uri": "https://localhost:8080/"
        },
        "id": "lkf21F2h8Agx",
        "outputId": "cf02540c-af04-4c50-97eb-f9b4a8e4ab56"
      },
      "execution_count": 5,
      "outputs": [
        {
          "output_type": "execute_result",
          "data": {
            "text/plain": [
              "16777216.0"
            ]
          },
          "metadata": {},
          "execution_count": 5
        }
      ]
    },
    {
      "cell_type": "code",
      "source": [
        "import random as r ## Random is the very important module , random.choice(), random.shuffle(), random.randint()  very very import functions\n",
        "r.random()\n",
        "r.randint(999,10000)"
      ],
      "metadata": {
        "colab": {
          "base_uri": "https://localhost:8080/"
        },
        "id": "-N7nPvBE8Lmg",
        "outputId": "9c9bb7d7-cbb9-4dbb-c01c-60c7942227bc"
      },
      "execution_count": 22,
      "outputs": [
        {
          "output_type": "execute_result",
          "data": {
            "text/plain": [
              "8365"
            ]
          },
          "metadata": {},
          "execution_count": 22
        }
      ]
    },
    {
      "cell_type": "code",
      "source": [
        "ls1=[\"red\",\"green\",\"blue\",\"orange\",\"yellow\"]\n",
        "r.choice(ls1)\n",
        "r.shuffle(ls1)\n",
        "ls1"
      ],
      "metadata": {
        "colab": {
          "base_uri": "https://localhost:8080/"
        },
        "id": "jGxTb1Xv8oOv",
        "outputId": "bfe786c4-af7f-4717-af19-ec3e2064789a"
      },
      "execution_count": 21,
      "outputs": [
        {
          "output_type": "execute_result",
          "data": {
            "text/plain": [
              "['blue', 'yellow', 'orange', 'green', 'red']"
            ]
          },
          "metadata": {},
          "execution_count": 21
        }
      ]
    },
    {
      "cell_type": "code",
      "source": [
        "ls2=[\"c1\",\"c2\",\"c3\",\"c4\",\"c5\"]   # random.shuffle() is very good using case for the gaming application\n",
        "r.shuffle(ls2)\n",
        "ls2\n",
        "\n",
        "### Try random.sample() , choice with multiple option, os libraries , json libraries"
      ],
      "metadata": {
        "colab": {
          "base_uri": "https://localhost:8080/"
        },
        "id": "RZkz8_A89nXe",
        "outputId": "4f739d8b-f16b-42d3-9f1e-1f81c739993f"
      },
      "execution_count": 31,
      "outputs": [
        {
          "output_type": "execute_result",
          "data": {
            "text/plain": [
              "['c4', 'c1', 'c2', 'c5', 'c3']"
            ]
          },
          "metadata": {},
          "execution_count": 31
        }
      ]
    }
  ]
}